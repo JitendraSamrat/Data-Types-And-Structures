{
  "cells": [
    {
      "cell_type": "markdown",
      "source": [
        "#Data Types And Structures Question\n"
      ],
      "metadata": {
        "id": "uKsrN3qLmw6u"
      }
    },
    {
      "cell_type": "markdown",
      "source": [
        "1.\tWhat are data structures, and why are they important?\n",
        "\n",
        "- Data structures organize and store data efficiently for processing. Examples include arrays, stacks, queues, and trees. They are essential for faster operations like searching and sorting, optimizing memory usage, and solving complex problems efficiently. By using appropriate data structures, developers can create better-performing programs and algorithms tailored to specific tasks and requirements.\n",
        "2.\tExplain the difference between mutable and immutable data types with examples.\n",
        "  \n",
        "- Mutable:It Can be changed after creation.\n",
        "\n",
        "  Example: Lists ([1, 2, 3]) can have elements added or removed.\n",
        "        \n",
        "     Immutable:It Cannot be changed after creation.\n",
        "\n",
        "  Example: Tuples ((1, 2, 3)) stay fixed; modifications create a new tuple.\n",
        "3.\tWhat ore the main differences between lists and tuples in Python?\n",
        "- Lists are mutable, while tuples are immutable. Lists use square brackets [ ], and tuples use parentheses ( ). Tuples are faster and use less memory than lists. Lists are ideal for dynamic data that changes frequently, while tuples are suited for fixed collections where data remains constant. Both support various data types.\n",
        "4.\tDescribe how dictionaries store data.\n",
        "- Dictionaries store data as key-value pairs. Each key is unique and acts like an identifier for its corresponding value. Data is accessed, updated, or removed using the key. Internally, dictionaries use hash functions to map keys to memory locations, allowing fast lookups. Example: {\"name\": \"Alice\", \"age\": 25} stores keys name and age with their values.\n",
        "5.\tWhy might you use a set instead of a list in Python?\n",
        "- we might use a set instead of a list when you need:\n",
        "\n",
        "  Uniqueness: Sets automatically remove duplicates, ensuring only unique items.\n",
        "\n",
        "  Faster Lookups: Sets provide faster membership testing (in operator) compared to lists.\n",
        "\n",
        "  Mathematical Operations: Sets support operations like union, intersection, and difference efficiently.\n",
        "6.\tWhat is a string in Python, and how is it different from a list?\n",
        "- A string in Python is a sequence of characters enclosed in quotes (\"hello\" or 'abc'). It is immutable, meaning its value cannot be changed after creation.\n",
        "\n",
        " A list is a collection of items, which can be of different types and is mutable, allowing changes like adding or removing elements.\n",
        "7.\tHow do tuples ensure data integrity in Python?\n",
        "- Tuples ensure data integrity in Python by being immutable. Once created, the values inside a tuple cannot be changed, added, or removed. This prevents accidental modification of the data, making tuples ideal for storing fixed, unchanging collections of data. Their immutability ensures that the data remains consistent throughout the program.\n",
        "8.\tWhat is a hash table, and how does it relate to dictionaries in Python?\n",
        "- A hash table is a data structure that stores key-value pairs, using a hash function to map keys to specific memory locations. In Python, dictionaries are implemented using hash tables. The keys in a dictionary are hashed, allowing for efficient lookups, insertions, and deletions. This provides fast access to values based on their unique keys.\n",
        "9.\tCan lists contain different data types in Python?\n",
        "- Yes, lists in Python can contain different data types. A single list can store integers, strings, floats, and even other lists or objects.\n",
        "10.\tExplain why strings ore immutable in Python.\n",
        "- Strings are immutable in Python for several reasons:\n",
        "\n",
        "     Efficiency: Immutable objects can be optimized by Python for better memory management and faster operations.\n",
        "\n",
        "     Safety: Immutable strings prevent accidental modification, ensuring data integrity, especially when shared across multiple parts of a program.\n",
        "\n",
        "  Hashability: Since strings can be used as dictionary keys, their immutability guarantees they maintain a consistent hash value.\n",
        "11.\tWhat advantages do dictionaries offer over lists for certain tasks?\n",
        "- Dictionaries offer several advantages over lists for certain tasks:\n",
        "\n",
        "     Fast Lookups: Accessing data via a key is faster in dictionaries compared to searching through a list.\n",
        "\n",
        "     Key-Value Pairing: Dictionaries store data as key-value pairs, making it easier to associate and retrieve related data.\n",
        "\n",
        "     No Duplicates: Keys in dictionaries are unique, preventing  accidental duplicate entries.\n",
        "12.\tDescribe a scenario where using a tuple would be preferable over a list.\n",
        "- A tuple is preferable over a list when the data should remain constant. For example, storing coordinates like (40.7128, -74.0060) ensures that the values cannot be modified, providing data integrity. Tuples are ideal for fixed collections of data where immutability is important, such as geographic coordinates or configuration settings that should not change.\n",
        "13.\tHow do sets handle duplicate values in Python?\n",
        "- Sets automatically remove duplicate values. When a duplicate element is added, it is ignored, ensuring only unique items are stored. For example:\n",
        "\n",
        "   my_set = {1, 2, 3, 3}\n",
        "\n",
        "  print(my_set)  # Output: {1, 2, 3}\n",
        "14.\tHow does the \"in\" keyword work differently for lists and dictionaries?\n",
        "- The \"in\" keyword works differently for lists and dictionaries:\n",
        "\n",
        "  Lists: It checks if a value exists in the list. For example, 2 in [1, 2, 3] returns True because 2 is an element in the list.\n",
        "\n",
        "  Dictionaries: It checks if a key exists in the dictionary. For example, \"a\" in {\"a\": 1, \"b\": 2} returns True because \"a\" is a key in the dictionary, not the value.\n",
        "15.\tCan you modify the elements of a tuple* Explain why or why not.\n",
        "- No, you cannot modify the elements of a tuple because tuples are immutable in Python. Once a tuple is created, its values cannot be changed, added, or removed. This immutability ensures data integrity and stability, especially when tuples are used to store fixed collections of data. For modification, you would need to create a new tuple.\n",
        "16.\tWhat is a nested dictionary, and give on example of its use case?\n",
        "- A nested dictionary is a dictionary where the value of one or more keys is another dictionary. This allows for more complex data structures and hierarchical relationships.\n",
        "\n",
        "  Example Use Case:\n",
        "  Storing employee details, where each employee has their own dictionary of attributes like name, age, and department:\n",
        "\n",
        "  employees = {\n",
        "    \"emp1\": {\"name\": \"Ram\", \"age\": 30, \"department\": \"HR\"},\n",
        "    \"emp2\": {\"name\": \"Mohan\", \"age\": 25, \"department\": \"BBA\"}\n",
        "     }\n",
        "17.\tDescribe the time complexity of accessing elements in a dictionary.\n",
        "- Accessing elements in a dictionary has an average time complexity of O(1), meaning it is very fast and occurs in constant time. This is because dictionaries use a hash table internally, where keys are hashed to specific memory locations, allowing for quick lookups. However, in rare cases, when hash collisions occur, the time complexity can degrade to O(n), but this is uncommon.\n",
        "18.\tIn what situations are lists preferred over dictionaries?\n",
        "- Lists are preferred over dictionaries when:\n",
        "\n",
        "  Order matters: Lists maintain the order of elements, which is important for tasks like sorting or sequential processing.\n",
        "\n",
        "  Indexed access: If you need to access elements by position (index) rather than a key, lists are ideal.\n",
        "\n",
        "  Storing homogeneous data: When the data is of the same type and does not require key-value pair relationships, lists are simpler and more efficient.\n",
        "19.\tWhy are dictionaries considered unordered, and how does that affect data retrieval?\n",
        "- Dictionaries are considered unordered because their elements are stored based on the hash of the keys, not in any specific sequence. While Python 3.7+ maintains insertion order, data retrieval is based on keys, not positions. Thus, the order of items isn't guaranteed, impacting how you access elements.\n",
        "20.\tExplain the difference between a list and a dictionary in terms of data retrieval.\n",
        "- In a list, data is retrieved using an index, based on the position of an element. For example, my_list[2] accesses the third element.\n",
        "In a dictionary, data is retrieved using a key. For example, my_dict[\"name\"] retrieves the value associated with the \"name\" key.\n",
        "\n",
        "\n",
        "\n",
        "\n",
        "\n",
        "\n",
        "\n",
        "\n",
        "\n",
        "\n"
      ],
      "metadata": {
        "id": "gO3EaL9Gm4hk"
      }
    },
    {
      "cell_type": "markdown",
      "source": [
        "#Practical Qusetion"
      ],
      "metadata": {
        "id": "oshs-zdFnw-0"
      }
    },
    {
      "cell_type": "code",
      "source": [
        "#1.Write a code to create a string with your nome and print it.\n",
        "name = \"Jitendra Kumar\"\n",
        "print(name)\n"
      ],
      "metadata": {
        "id": "VKusqi-Tn3PM",
        "outputId": "5aba4986-ae2e-4845-fbf4-4a7993289d95",
        "colab": {
          "base_uri": "https://localhost:8080/"
        }
      },
      "execution_count": 1,
      "outputs": [
        {
          "output_type": "stream",
          "name": "stdout",
          "text": [
            "Jitendra Kumar\n"
          ]
        }
      ]
    },
    {
      "cell_type": "code",
      "source": [
        "#2.Write a code to find the length of the string \"Hello World\".\n",
        "string = \"Hello World\"\n",
        "length = len(string)\n",
        "print(length)\n"
      ],
      "metadata": {
        "id": "fBKSghqDoOKN",
        "outputId": "5e19ab8a-b526-4633-fc83-302675ac0f2a",
        "colab": {
          "base_uri": "https://localhost:8080/"
        }
      },
      "execution_count": 2,
      "outputs": [
        {
          "output_type": "stream",
          "name": "stdout",
          "text": [
            "11\n"
          ]
        }
      ]
    },
    {
      "cell_type": "code",
      "source": [
        "#3.Write a code to slice the first 3 characters from the string \"Python Programming\".\n",
        "string = \"Python Programming\"\n",
        "sliced_string = string[:3]\n",
        "print(sliced_string)\n"
      ],
      "metadata": {
        "id": "rYv9X5NXoXGC",
        "outputId": "42f5566d-a7f1-47a4-fb70-3cb13fb8af5c",
        "colab": {
          "base_uri": "https://localhost:8080/"
        }
      },
      "execution_count": 3,
      "outputs": [
        {
          "output_type": "stream",
          "name": "stdout",
          "text": [
            "Pyt\n"
          ]
        }
      ]
    },
    {
      "cell_type": "code",
      "source": [
        "#4.Write a code to convert the string \"hello\" to uppercase.\n",
        "string = \"hello\"\n",
        "uppercase_string = string.upper()\n",
        "print(uppercase_string)\n"
      ],
      "metadata": {
        "id": "pCPyFnk-okgw",
        "outputId": "32dde641-b986-4272-fb11-5d0e59a17e37",
        "colab": {
          "base_uri": "https://localhost:8080/"
        }
      },
      "execution_count": 4,
      "outputs": [
        {
          "output_type": "stream",
          "name": "stdout",
          "text": [
            "HELLO\n"
          ]
        }
      ]
    },
    {
      "cell_type": "code",
      "source": [
        "#5.Write a code to replace the word \"apple\" with \"orange\" in the string \"I like apple\".\n",
        "string = \"I like apple\"\n",
        "modified_string = string.replace(\"apple\", \"orange\")\n",
        "print(modified_string)\n"
      ],
      "metadata": {
        "id": "wuYrah71os2d",
        "outputId": "05ffef55-65b5-419b-c111-258798b7494e",
        "colab": {
          "base_uri": "https://localhost:8080/"
        }
      },
      "execution_count": 5,
      "outputs": [
        {
          "output_type": "stream",
          "name": "stdout",
          "text": [
            "I like orange\n"
          ]
        }
      ]
    },
    {
      "cell_type": "code",
      "source": [
        "#6.Write a code to create a list with numbers 1 to  5 and print it.\n",
        "numbers = [1, 2, 3, 4, 5]\n",
        "print(numbers)\n"
      ],
      "metadata": {
        "id": "bcN-Q_3JpCJm",
        "outputId": "54233610-0a40-4df3-9222-e02ff020c03b",
        "colab": {
          "base_uri": "https://localhost:8080/"
        }
      },
      "execution_count": 6,
      "outputs": [
        {
          "output_type": "stream",
          "name": "stdout",
          "text": [
            "[1, 2, 3, 4, 5]\n"
          ]
        }
      ]
    },
    {
      "cell_type": "code",
      "source": [
        "#7.Write a code to append the number 10 to the list [1, 2, 3, 4].\n",
        "numbers = [1, 2, 3, 4]\n",
        "numbers.append(10)\n",
        "print(numbers)\n"
      ],
      "metadata": {
        "id": "OPiV02o_pSSH",
        "outputId": "1d21c149-be06-46fc-b8c4-2acb50b2c19d",
        "colab": {
          "base_uri": "https://localhost:8080/"
        }
      },
      "execution_count": 7,
      "outputs": [
        {
          "output_type": "stream",
          "name": "stdout",
          "text": [
            "[1, 2, 3, 4, 10]\n"
          ]
        }
      ]
    },
    {
      "cell_type": "code",
      "source": [
        "#8.Write a code to remove the number 3 from the list [1, 2, 3, 4, 5].\n",
        "numbers = [1, 2, 3, 4, 5]\n",
        "numbers.remove(3)\n",
        "print(numbers)\n"
      ],
      "metadata": {
        "id": "kQ2QUQYLpjZ7",
        "outputId": "1d7e2395-b5a6-4ea0-cfd1-19f3097ccafe",
        "colab": {
          "base_uri": "https://localhost:8080/"
        }
      },
      "execution_count": 8,
      "outputs": [
        {
          "output_type": "stream",
          "name": "stdout",
          "text": [
            "[1, 2, 4, 5]\n"
          ]
        }
      ]
    },
    {
      "cell_type": "code",
      "source": [
        "#9.Write a code to access the second element in the list ['a', 'b', 'c', 'd]\n",
        "my_list = ['a', 'b', 'c', 'd']\n",
        "second_element = my_list[1]\n",
        "print(second_element)\n"
      ],
      "metadata": {
        "id": "cvMPxo_LpxGt",
        "outputId": "5830d380-8628-481d-c0cb-15e1d73e9b16",
        "colab": {
          "base_uri": "https://localhost:8080/"
        }
      },
      "execution_count": 12,
      "outputs": [
        {
          "output_type": "stream",
          "name": "stdout",
          "text": [
            "b\n"
          ]
        }
      ]
    },
    {
      "cell_type": "code",
      "source": [
        "#10.Write a code to reverse the list [10, 20, 30, 40, 50].\n",
        "numbers = [10, 20, 30, 40, 50]\n",
        "reversed_list = numbers[::-1]\n",
        "print(reversed_list)\n"
      ],
      "metadata": {
        "id": "ycWUxEoEqIeI",
        "outputId": "f16df7ac-b653-43b9-c4f8-50278b814222",
        "colab": {
          "base_uri": "https://localhost:8080/"
        }
      },
      "execution_count": 13,
      "outputs": [
        {
          "output_type": "stream",
          "name": "stdout",
          "text": [
            "[50, 40, 30, 20, 10]\n"
          ]
        }
      ]
    },
    {
      "cell_type": "code",
      "source": [
        "#11.Write a code to create a tuple with the elements 100, 200, 300 and print it.\n",
        "my_tuple = (100, 200, 300)\n",
        "print(my_tuple)\n"
      ],
      "metadata": {
        "id": "hJwz7bFYqfF7",
        "outputId": "5ff9dea9-1c02-4270-cff9-9e07b806f410",
        "colab": {
          "base_uri": "https://localhost:8080/"
        }
      },
      "execution_count": 14,
      "outputs": [
        {
          "output_type": "stream",
          "name": "stdout",
          "text": [
            "(100, 200, 300)\n"
          ]
        }
      ]
    },
    {
      "cell_type": "code",
      "source": [
        "#12.Write a code to access the second—to—lost element of the tuple ('red', 'green', 'blue', 'yellow’).\n",
        "my_tuple = ('red', 'green', 'blue', 'yellow')\n",
        "second_to_last = my_tuple[-2]\n",
        "print(second_to_last)\n"
      ],
      "metadata": {
        "id": "Y6xfSsgUqp_W",
        "outputId": "45b80d20-9b61-43ba-aa89-7a08c9acd3d4",
        "colab": {
          "base_uri": "https://localhost:8080/"
        }
      },
      "execution_count": 15,
      "outputs": [
        {
          "output_type": "stream",
          "name": "stdout",
          "text": [
            "blue\n"
          ]
        }
      ]
    },
    {
      "cell_type": "code",
      "source": [
        "#13.Write a code to find the minimum number in the tuple (10, 20, 5, 15).\n",
        "my_tuple = (10, 20, 5, 15)\n",
        "min_number = min(my_tuple)\n",
        "print(min_number)\n"
      ],
      "metadata": {
        "id": "R7_JtLfMrXNn",
        "outputId": "966b9fbf-a902-4afe-908c-c289221d0cd4",
        "colab": {
          "base_uri": "https://localhost:8080/"
        }
      },
      "execution_count": 16,
      "outputs": [
        {
          "output_type": "stream",
          "name": "stdout",
          "text": [
            "5\n"
          ]
        }
      ]
    },
    {
      "cell_type": "code",
      "source": [
        "#14.Write a code to find the index of the element \"cat\" in the tuple ('dog', 'cat', 'rabbit').\n",
        "my_tuple = ('dog', 'cat', 'rabbit')\n",
        "index_of_cat = my_tuple.index('cat')\n",
        "print(index_of_cat)\n"
      ],
      "metadata": {
        "id": "6dOu3INJr1S4",
        "outputId": "ed58e49d-fd4e-437f-d97a-bfcf7ecba40a",
        "colab": {
          "base_uri": "https://localhost:8080/"
        }
      },
      "execution_count": 17,
      "outputs": [
        {
          "output_type": "stream",
          "name": "stdout",
          "text": [
            "1\n"
          ]
        }
      ]
    },
    {
      "cell_type": "code",
      "source": [
        "#15.Write a code to create a tuple containing three different fruits and check if \"kiwi\" is in it.\n",
        "fruits = ('apple', 'banana', 'cherry')\n",
        "is_kiwi_in_tuple = 'kiwi' in fruits\n",
        "print(is_kiwi_in_tuple)\n",
        "\n"
      ],
      "metadata": {
        "id": "KDE9xQPXscg6",
        "outputId": "5fedcb78-2d55-4d18-f10d-f274388b437b",
        "colab": {
          "base_uri": "https://localhost:8080/"
        }
      },
      "execution_count": 18,
      "outputs": [
        {
          "output_type": "stream",
          "name": "stdout",
          "text": [
            "False\n"
          ]
        }
      ]
    },
    {
      "cell_type": "code",
      "source": [
        "#16.Write a code to create a set with the elements 'a', 'b', 'c' and print it.\n",
        "my_set = {'a', 'b', 'c'}\n",
        "print(my_set)\n"
      ],
      "metadata": {
        "id": "nYEzSTiFtGdY",
        "outputId": "aedff470-2a1a-4083-ddbc-062c07fd2381",
        "colab": {
          "base_uri": "https://localhost:8080/"
        }
      },
      "execution_count": 19,
      "outputs": [
        {
          "output_type": "stream",
          "name": "stdout",
          "text": [
            "{'c', 'b', 'a'}\n"
          ]
        }
      ]
    },
    {
      "cell_type": "code",
      "source": [
        "#17.Write a code to clear all elements from the set (1, 2, 3, 4, 5).\n",
        "my_set = {1, 2, 3, 4, 5}\n",
        "my_set.clear()\n",
        "print(my_set)\n"
      ],
      "metadata": {
        "id": "o-aFwkuAuB9Q",
        "outputId": "6f046765-8f9e-4edf-d8f6-809e00f928b4",
        "colab": {
          "base_uri": "https://localhost:8080/"
        }
      },
      "execution_count": 20,
      "outputs": [
        {
          "output_type": "stream",
          "name": "stdout",
          "text": [
            "set()\n"
          ]
        }
      ]
    },
    {
      "cell_type": "code",
      "source": [
        "#18.Write a code to remove the element 4 from the set (1, 2, 3, 4).\n",
        "my_set = {1, 2, 3, 4}\n",
        "my_set.remove(4)\n",
        "print(my_set)\n"
      ],
      "metadata": {
        "id": "sOacyj57uvEG",
        "outputId": "66b5b0f4-6209-45fd-b7e1-03d33146e831",
        "colab": {
          "base_uri": "https://localhost:8080/"
        }
      },
      "execution_count": 21,
      "outputs": [
        {
          "output_type": "stream",
          "name": "stdout",
          "text": [
            "{1, 2, 3}\n"
          ]
        }
      ]
    },
    {
      "cell_type": "code",
      "source": [
        "#19.Write a code to find the union of two sets (1, 2, 3) and (3, 4, 5).\n",
        "set1 = {1, 2, 3}\n",
        "set2 = {3, 4, 5}\n",
        "union_set = set1.union(set2)\n",
        "print(union_set)\n"
      ],
      "metadata": {
        "id": "J_lJv0b5vRJW",
        "outputId": "7c321bb0-aef4-4c8d-8580-614d48fb2dbe",
        "colab": {
          "base_uri": "https://localhost:8080/"
        }
      },
      "execution_count": 24,
      "outputs": [
        {
          "output_type": "stream",
          "name": "stdout",
          "text": [
            "{1, 2, 3, 4, 5}\n"
          ]
        }
      ]
    },
    {
      "cell_type": "code",
      "source": [
        "#20.Write a code to find the intersection of two sets (1, 2, 3) and (2, 3, 4).\n",
        "set1 = {1, 2, 3}\n",
        "set2 = {2, 3, 4}\n",
        "intersection_set = set1.intersection(set2)\n",
        "print(intersection_set)\n"
      ],
      "metadata": {
        "id": "tuLG47ebwgaB",
        "outputId": "174e4e68-b6c9-471c-f7e0-d945cd176083",
        "colab": {
          "base_uri": "https://localhost:8080/"
        }
      },
      "execution_count": 25,
      "outputs": [
        {
          "output_type": "stream",
          "name": "stdout",
          "text": [
            "{2, 3}\n"
          ]
        }
      ]
    },
    {
      "cell_type": "code",
      "source": [
        "#21.Write a code to create a dictionary with the keys \"nome\", \"age\", and \"city\", and print it.\n",
        "my_dict = {\n",
        "    \"name\": \"jitendra\",\n",
        "    \"age\": 22,\n",
        "    \"city\": \"patna\"\n",
        "}\n",
        "print(my_dict)\n"
      ],
      "metadata": {
        "id": "-WkNo2itw_UL",
        "outputId": "1418678b-4b48-4b10-f4a3-4c26a96af457",
        "colab": {
          "base_uri": "https://localhost:8080/"
        }
      },
      "execution_count": 26,
      "outputs": [
        {
          "output_type": "stream",
          "name": "stdout",
          "text": [
            "{'name': 'jitendra', 'age': 22, 'city': 'patna'}\n"
          ]
        }
      ]
    },
    {
      "cell_type": "code",
      "source": [
        "#22.Write a code to add a new key-value pair \"country\": \"USA\" to the dictionary ('name': 'John', 'age': 25).\n",
        "my_dict = {'name': 'John', 'age': 25}\n",
        "my_dict['country'] = 'USA'\n",
        "print(my_dict)\n"
      ],
      "metadata": {
        "id": "Uv2tL0SLxr61",
        "outputId": "e61a15e6-0eb1-4a2e-c9c2-1a67ba47f72f",
        "colab": {
          "base_uri": "https://localhost:8080/"
        }
      },
      "execution_count": 27,
      "outputs": [
        {
          "output_type": "stream",
          "name": "stdout",
          "text": [
            "{'name': 'John', 'age': 25, 'country': 'USA'}\n"
          ]
        }
      ]
    },
    {
      "cell_type": "code",
      "source": [
        "#23.Write a code to access the value associated with the key \"name\" in the dictionary ('name’: 'Alice', 'age': 30).\n",
        "my_dict = {'name': 'Alice', 'age': 30}\n",
        "name_value = my_dict['name']\n",
        "print(name_value)\n"
      ],
      "metadata": {
        "id": "c1ZqJ5AQyEw5",
        "outputId": "278cf474-bf23-4ecc-8b1b-4b5c47be3b69",
        "colab": {
          "base_uri": "https://localhost:8080/"
        }
      },
      "execution_count": 28,
      "outputs": [
        {
          "output_type": "stream",
          "name": "stdout",
          "text": [
            "Alice\n"
          ]
        }
      ]
    },
    {
      "cell_type": "code",
      "source": [
        "#24.Write a code to remove the key \"age\" from the dictionary (’nome’: 'Bob', 'age': 22, 'city': ’New York’).\n",
        "my_dict = {'name': 'Bob', 'age': 22, 'city': 'New York'}\n",
        "del my_dict['age']\n",
        "print(my_dict)\n"
      ],
      "metadata": {
        "id": "7fch8a0qyeMx",
        "outputId": "36bfcff3-1b96-45a6-b541-5b945914c6ce",
        "colab": {
          "base_uri": "https://localhost:8080/"
        }
      },
      "execution_count": 29,
      "outputs": [
        {
          "output_type": "stream",
          "name": "stdout",
          "text": [
            "{'name': 'Bob', 'city': 'New York'}\n"
          ]
        }
      ]
    },
    {
      "cell_type": "code",
      "source": [
        "#25.Write a code to check if the key \"city\" exists in the dictionary {'name': 'Alice', 'city': 'Paris'}.\n",
        "my_dict = {'name': 'Alice', 'city': 'Paris'}\n",
        "if 'city' in my_dict:\n",
        "    print(\"Key 'city' exists.\")\n",
        "else:\n",
        "    print(\"Key 'city' does not exist.\")\n"
      ],
      "metadata": {
        "id": "UtUjwSvrzCk5",
        "outputId": "1e323dd1-c2cd-4e32-fb83-49e48155f842",
        "colab": {
          "base_uri": "https://localhost:8080/"
        }
      },
      "execution_count": 30,
      "outputs": [
        {
          "output_type": "stream",
          "name": "stdout",
          "text": [
            "Key 'city' exists.\n"
          ]
        }
      ]
    },
    {
      "cell_type": "code",
      "source": [
        "#26.Write a code to create a list, a tuple, and a dictionary, and print them all.\n",
        "my_list = [1, 2, 3, 4]\n",
        "my_tuple = ('apple', 'banana', 'cherry')\n",
        "my_dict = {'name': 'Jitendra', 'age': 22, 'city': 'patna'}\n",
        "print(\"List:\", my_list)\n",
        "print(\"Tuple:\", my_tuple)\n",
        "print(\"Dictionary:\", my_dict)\n"
      ],
      "metadata": {
        "id": "LHolfJBOzasP",
        "outputId": "66b4bafc-4517-4c0b-8c29-a6aa55bb994a",
        "colab": {
          "base_uri": "https://localhost:8080/"
        }
      },
      "execution_count": 37,
      "outputs": [
        {
          "output_type": "stream",
          "name": "stdout",
          "text": [
            "List: [1, 2, 3, 4]\n",
            "Tuple: ('apple', 'banana', 'cherry')\n",
            "Dictionary: {'name': 'Jitendra', 'age': 22, 'city': 'patna'}\n"
          ]
        }
      ]
    },
    {
      "cell_type": "code",
      "source": [
        "#27.Write a code to create a list of 5 random numbers between 1 and\t100, sort it in ascending order, and print the result.(replaced)\n",
        "import random\n",
        "random_numbers = [random.randint(1, 100) for _ in range(5)]\n",
        "random_numbers.sort()\n",
        "print(random_numbers)\n"
      ],
      "metadata": {
        "id": "OA34z4Y-0X3i",
        "outputId": "c974780f-2a85-468e-ab92-6e9c4c34063b",
        "colab": {
          "base_uri": "https://localhost:8080/"
        }
      },
      "execution_count": 32,
      "outputs": [
        {
          "output_type": "stream",
          "name": "stdout",
          "text": [
            "[18, 33, 40, 44, 50]\n"
          ]
        }
      ]
    },
    {
      "cell_type": "code",
      "source": [
        "#28.Write a code to create a list with strings and print the element at the third index.\n",
        "my_list = [\"apple\", \"banana\", \"cherry\", \"date\", \"elderberry\"]\n",
        "print(my_list[3])\n"
      ],
      "metadata": {
        "id": "LobpEo8A076E",
        "outputId": "3a3f3cc2-07d8-4bfa-a5a5-3a69a89a8fe0",
        "colab": {
          "base_uri": "https://localhost:8080/"
        }
      },
      "execution_count": 33,
      "outputs": [
        {
          "output_type": "stream",
          "name": "stdout",
          "text": [
            "date\n"
          ]
        }
      ]
    },
    {
      "cell_type": "code",
      "source": [
        "#29.Write a code to combine two dictionaries into one and print the result.\n",
        "dict1 = {'name': 'Jitendra', 'age': 22}\n",
        "dict2 = {'city': 'Patna', 'job': 'BBA'}\n",
        "combined_dict = {**dict1, **dict2}\n",
        "print(combined_dict)\n"
      ],
      "metadata": {
        "id": "iu9I6Yu31RGn",
        "outputId": "2c5f6bd2-4252-4c97-950e-00951f69e28d",
        "colab": {
          "base_uri": "https://localhost:8080/"
        }
      },
      "execution_count": 35,
      "outputs": [
        {
          "output_type": "stream",
          "name": "stdout",
          "text": [
            "{'name': 'Jitendra', 'age': 22, 'city': 'Patna', 'job': 'BBA'}\n"
          ]
        }
      ]
    },
    {
      "cell_type": "code",
      "source": [
        "#30.Write a code to convert a list of strings into a set.\n",
        "my_list = [\"apple\", \"banana\", \"cherry\", \"apple\", \"banana\"]\n",
        "my_set = set(my_list)\n",
        "print(my_set)\n"
      ],
      "metadata": {
        "id": "utzBd27T1-Mg",
        "outputId": "aca3ed7d-8bc1-4174-d223-7a250e36580c",
        "colab": {
          "base_uri": "https://localhost:8080/"
        }
      },
      "execution_count": 36,
      "outputs": [
        {
          "output_type": "stream",
          "name": "stdout",
          "text": [
            "{'banana', 'cherry', 'apple'}\n"
          ]
        }
      ]
    }
  ],
  "metadata": {
    "colab": {
      "name": "Welcome To Colab",
      "provenance": []
    },
    "kernelspec": {
      "display_name": "Python 3",
      "name": "python3"
    }
  },
  "nbformat": 4,
  "nbformat_minor": 0
}